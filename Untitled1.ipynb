{
  "nbformat": 4,
  "nbformat_minor": 0,
  "metadata": {
    "colab": {
      "provenance": [],
      "toc_visible": true,
      "authorship_tag": "ABX9TyOvVa+jNTUK93Ai5cNDi2Re",
      "include_colab_link": true
    },
    "kernelspec": {
      "name": "python3",
      "display_name": "Python 3"
    },
    "language_info": {
      "name": "python"
    }
  },
  "cells": [
    {
      "cell_type": "markdown",
      "metadata": {
        "id": "view-in-github",
        "colab_type": "text"
      },
      "source": [
        "<a href=\"https://colab.research.google.com/github/Abhisekh97/generative-AI-Coursera-/blob/main/Untitled1.ipynb\" target=\"_parent\"><img src=\"https://colab.research.google.com/assets/colab-badge.svg\" alt=\"Open In Colab\"/></a>"
      ]
    },
    {
      "cell_type": "code",
      "execution_count": 3,
      "metadata": {
        "colab": {
          "base_uri": "https://localhost:8080/"
        },
        "id": "jm2oAABbchRd",
        "outputId": "13903ae2-a193-4532-8656-79bf6be3beb5"
      },
      "outputs": [
        {
          "output_type": "stream",
          "name": "stdout",
          "text": [
            "Requirement already satisfied: pip in /usr/local/lib/python3.10/dist-packages (23.1.2)\n",
            "Collecting pip\n",
            "  Downloading pip-24.0-py3-none-any.whl (2.1 MB)\n",
            "\u001b[2K     \u001b[90m━━━━━━━━━━━━━━━━━━━━━━━━━━━━━━━━━━━━━━━━\u001b[0m \u001b[32m2.1/2.1 MB\u001b[0m \u001b[31m18.9 MB/s\u001b[0m eta \u001b[36m0:00:00\u001b[0m\n",
            "\u001b[?25hInstalling collected packages: pip\n",
            "  Attempting uninstall: pip\n",
            "    Found existing installation: pip 23.1.2\n",
            "    Uninstalling pip-23.1.2:\n",
            "      Successfully uninstalled pip-23.1.2\n",
            "Successfully installed pip-24.0\n",
            "\u001b[2K     \u001b[90m━━━━━━━━━━━━━━━━━━━━━━━━━━━━━━━━━━━━━━━━\u001b[0m \u001b[32m887.5/887.5 MB\u001b[0m \u001b[31m846.2 kB/s\u001b[0m eta \u001b[36m0:00:00\u001b[0m\n",
            "\u001b[2K     \u001b[90m━━━━━━━━━━━━━━━━━━━━━━━━━━━━━━━━━━━━━━━━\u001b[0m \u001b[32m4.6/4.6 MB\u001b[0m \u001b[31m60.9 MB/s\u001b[0m eta \u001b[36m0:00:00\u001b[0m\n",
            "\u001b[2K     \u001b[90m━━━━━━━━━━━━━━━━━━━━━━━━━━━━━━━━━━━━━━━━\u001b[0m \u001b[32m849.3/849.3 kB\u001b[0m \u001b[31m36.3 MB/s\u001b[0m eta \u001b[36m0:00:00\u001b[0m\n",
            "\u001b[2K     \u001b[90m━━━━━━━━━━━━━━━━━━━━━━━━━━━━━━━━━━━━━━━━\u001b[0m \u001b[32m557.1/557.1 MB\u001b[0m \u001b[31m3.3 MB/s\u001b[0m eta \u001b[36m0:00:00\u001b[0m\n",
            "\u001b[2K     \u001b[90m━━━━━━━━━━━━━━━━━━━━━━━━━━━━━━━━━━━━━━━━\u001b[0m \u001b[32m317.1/317.1 MB\u001b[0m \u001b[31m4.8 MB/s\u001b[0m eta \u001b[36m0:00:00\u001b[0m\n",
            "\u001b[2K     \u001b[90m━━━━━━━━━━━━━━━━━━━━━━━━━━━━━━━━━━━━━━━━\u001b[0m \u001b[32m21.0/21.0 MB\u001b[0m \u001b[31m80.3 MB/s\u001b[0m eta \u001b[36m0:00:00\u001b[0m\n",
            "\u001b[?25h\u001b[31mERROR: pip's dependency resolver does not currently take into account all the packages that are installed. This behaviour is the source of the following dependency conflicts.\n",
            "torchaudio 2.1.0+cu121 requires torch==2.1.0, but you have torch 1.13.1 which is incompatible.\n",
            "torchtext 0.16.0 requires torch==2.1.0, but you have torch 1.13.1 which is incompatible.\n",
            "torchtext 0.16.0 requires torchdata==0.7.0, but you have torchdata 0.5.1 which is incompatible.\n",
            "torchvision 0.16.0+cu121 requires torch==2.1.0, but you have torch 1.13.1 which is incompatible.\u001b[0m\u001b[31m\n",
            "\u001b[0m\u001b[33mWARNING: Running pip as the 'root' user can result in broken permissions and conflicting behaviour with the system package manager. It is recommended to use a virtual environment instead: https://pip.pypa.io/warnings/venv\u001b[0m\u001b[33m\n",
            "\u001b[2K     \u001b[90m━━━━━━━━━━━━━━━━━━━━━━━━━━━━━━━━━━━━━━━━\u001b[0m \u001b[32m6.8/6.8 MB\u001b[0m \u001b[31m55.7 MB/s\u001b[0m eta \u001b[36m0:00:00\u001b[0m\n",
            "\u001b[2K     \u001b[90m━━━━━━━━━━━━━━━━━━━━━━━━━━━━━━━━━━━━━━━━\u001b[0m \u001b[32m468.7/468.7 kB\u001b[0m \u001b[31m26.1 MB/s\u001b[0m eta \u001b[36m0:00:00\u001b[0m\n",
            "\u001b[2K     \u001b[90m━━━━━━━━━━━━━━━━━━━━━━━━━━━━━━━━━━━━━━━━\u001b[0m \u001b[32m7.8/7.8 MB\u001b[0m \u001b[31m85.2 MB/s\u001b[0m eta \u001b[36m0:00:00\u001b[0m\n",
            "\u001b[2K     \u001b[90m━━━━━━━━━━━━━━━━━━━━━━━━━━━━━━━━━━━━━━━━\u001b[0m \u001b[32m110.5/110.5 kB\u001b[0m \u001b[31m7.8 MB/s\u001b[0m eta \u001b[36m0:00:00\u001b[0m\n",
            "\u001b[2K     \u001b[90m━━━━━━━━━━━━━━━━━━━━━━━━━━━━━━━━━━━━━━━━\u001b[0m \u001b[32m134.3/134.3 kB\u001b[0m \u001b[31m10.3 MB/s\u001b[0m eta \u001b[36m0:00:00\u001b[0m\n",
            "\u001b[?25h\u001b[33mWARNING: Running pip as the 'root' user can result in broken permissions and conflicting behaviour with the system package manager. It is recommended to use a virtual environment instead: https://pip.pypa.io/warnings/venv\u001b[0m\u001b[33m\n",
            "\u001b[0m"
          ]
        }
      ],
      "source": [
        "%pip install --upgrade pip\n",
        "%pip install --disable-pip-version-check \\\n",
        "    torch==1.13.1 \\\n",
        "    torchdata==0.5.1 --quiet\n",
        "\n",
        "%pip install \\\n",
        "    transformers==4.27.2 \\\n",
        "    datasets==2.11.0  --quiet\n",
        "%pip install PyPDF2"
      ]
    },
    {
      "cell_type": "code",
      "source": [
        "from datasets import load_dataset\n",
        "from transformers import AutoModelForSeq2SeqLM\n",
        "from transformers import AutoTokenizer\n",
        "from transformers import GenerationConfig"
      ],
      "metadata": {
        "id": "y8rE8reMfNeY"
      },
      "execution_count": 4,
      "outputs": []
    },
    {
      "cell_type": "markdown",
      "source": [
        "Reading and pre processing pdf to text\n"
      ],
      "metadata": {
        "id": "WDyejzWEnMid"
      }
    },
    {
      "cell_type": "code",
      "source": [
        "import PyPDF2\n",
        "def pdfTotext(pdf_path):\n",
        "  pdfFileObj = open(pdf_path, 'rb')\n",
        "  pdfReader = PyPDF2.PdfReader(pdfFileObj)\n",
        "  no_of_pages  = len(pdfReader.pages)\n",
        "  print(no_of_pages)\n",
        "  pageObj = pdfReader.pages[0]\n",
        "  pdftext = \"\"\n",
        "  for page in range(no_of_pages):\n",
        "    pdftext += pdfReader.pages[page].extract_text()\n",
        "\n",
        "  pdfFileObj.close()\n",
        "  return pdftext"
      ],
      "metadata": {
        "id": "amuxpRW-h6-j"
      },
      "execution_count": 1,
      "outputs": []
    },
    {
      "cell_type": "code",
      "source": [
        "def text_reader(file_path):\n",
        "  with open(file_path, 'r') as file:\n",
        "    texts = file.read()\n",
        "  return texts"
      ],
      "metadata": {
        "id": "wwsy7F90-Zhu"
      },
      "execution_count": 14,
      "outputs": []
    },
    {
      "cell_type": "code",
      "source": [
        "text_path = \"/content/sample_data/test_case2.txt\"\n",
        "text = text_reader(text_path)\n",
        "print(text)"
      ],
      "metadata": {
        "colab": {
          "base_uri": "https://localhost:8080/"
        },
        "id": "hLPih-c1-pTT",
        "outputId": "9594e618-7620-4a59-9b3f-18589a4d4c71"
      },
      "execution_count": 15,
      "outputs": [
        {
          "output_type": "stream",
          "name": "stdout",
          "text": [
            "Tax Invoice/Bill of Supply/Cash Memo\n",
            "(Original for Recipient)\n",
            "*ASSPL-Amazon Seller Services Pvt. Ltd., ARIPL-Amazon Retail India Pvt. Ltd. (only where Amazon Retail India Pvt. Ltd. fulfillment center is co-located) \n",
            "Customers desirous of availing input GST credit are requested to create a Business account and purchase on Amazon.in/business from Business eligible offers \n",
            "Please note that this invoice is not a demand for payment\n",
            "Page 1 of 1For Darshita Aashiyana Private Limited:\n",
            "Authorized Signatory\n",
            "Order Number:  407-8153595-7245952 Invoice Number :  DEL2-68786\n",
            "Order Date:  10.08.2019 Invoice Details :  HR-DEL2-179184911-1920\n",
            "Invoice Date:\n",
            "Sl.\n",
            "NoDescription Unit Price QtyNet\n",
            "AmountTax\n",
            "RateTax\n",
            "TypeTax\n",
            "AmountTotal\n",
            "Amount\n",
            "1OnePlus 7 (Mirror Blue, 6GB RAM, 128GB Storage) |\n",
            "B07HGMLBW1 ( OP7-NBLUE-6-128GB ) \n",
            "HSN:8517₹29,463.39 1₹29,463.39 12%IGST₹3,535.61₹32,999.00\n",
            "TOTAL: ₹3,535.61₹32,999.00\n",
            "Amount in Words:\n",
            "Thirty-two Thousand Nine Hundred And Ninety-nine onlySold By :\n",
            "Darshita Aashiyana Private Limited\n",
            "* Unit No. 1, Khewat/ Khata No: 373/ 400 Mustatil\n",
            "No 31,, Village Taoru, Tehsil Taoru, District\n",
            "Mewat,, On Bilaspur Taoru Road\n",
            "Mewat, Haryana, 122105\n",
            "IN\n",
            "PAN No: AAFCD6883Q\n",
            "GST Registration No: 06AAFCD6883Q1ZUBilling Address :\n",
            "karthik\n",
            "C1001 ace city, sector1\n",
            "GREATER NOIDA, UTTAR PRADESH, 201306\n",
            "IN\n",
            "Shipping Address :\n",
            "karthik \n",
            "karthik\n",
            "C1001 ace city, sector1\n",
            "GREATER NOIDA, UTTAR PRADESH, 201306\n",
            "IN\n"
          ]
        }
      ]
    },
    {
      "cell_type": "code",
      "source": [
        "pdf_path = \"/content/sample_data/amazon_invoice.pdf\"\n",
        "prompt = pdfTotext(pdf_path)\n",
        "\n",
        "print(prompt)\n"
      ],
      "metadata": {
        "colab": {
          "base_uri": "https://localhost:8080/"
        },
        "id": "1U-NyatZp5M9",
        "outputId": "173a725d-f9a9-4a1d-872b-3721410faa79"
      },
      "execution_count": 2,
      "outputs": [
        {
          "output_type": "stream",
          "name": "stdout",
          "text": [
            "1\n",
            " Tax Invoice/Bill of Supply/Cash Memo\n",
            "(Original for Recipient)\n",
            "*ASSPL-Amazon Seller Services Pvt. Ltd., ARIPL-Amazon Retail India Pvt. Ltd. (only where Amazon Retail India Pvt. Ltd. fulfillment center is co-located) \n",
            "Customers desirous of availing input GST credit are requested to create a Business account and purchase on Amazon.in/business from Business eligible offers \n",
            "Please note that this invoice is not a demand for payment\n",
            "Page 1 of 1For Darshita Aashiyana Private Limited:\n",
            "Authorized Signatory\n",
            "Order Number:  407-8153595-7245952 Invoice Number :  DEL2-68786\n",
            "Order Date:  10.08.2019 Invoice Details :  HR-DEL2-179184911-1920\n",
            "Invoice Date :  10.08.2019\n",
            "Sl.\n",
            "NoDescription Unit Price QtyNet\n",
            "AmountTax\n",
            "RateTax\n",
            "TypeTax\n",
            "AmountTotal\n",
            "Amount\n",
            "1OnePlus 7 (Mirror Blue, 6GB RAM, 128GB Storage) |\n",
            "B07HGMLBW1 ( OP7-NBLUE-6-128GB ) \n",
            "HSN:8517₹29,463.39 1₹29,463.39 12%IGST₹3,535.61₹32,999.00\n",
            "TOTAL: ₹3,535.61₹32,999.00\n",
            "Amount in Words:\n",
            "Thirty-two Thousand Nine Hundred And Ninety-nine onlySold By :\n",
            "Darshita Aashiyana Private Limited\n",
            "* Unit No. 1, Khewat/ Khata No: 373/ 400 Mustatil\n",
            "No 31,, Village Taoru, Tehsil Taoru, District\n",
            "Mewat,, On Bilaspur Taoru Road\n",
            "Mewat, Haryana, 122105\n",
            "IN\n",
            "PAN No: AAFCD6883Q\n",
            "GST Registration No: 06AAFCD6883Q1ZUBilling Address :\n",
            "karthik\n",
            "C1001 ace city, sector1\n",
            "GREATER NOIDA, UTTAR PRADESH, 201306\n",
            "IN\n",
            "Shipping Address :\n",
            "karthik \n",
            "karthik\n",
            "C1001 ace city, sector1\n",
            "GREATER NOIDA, UTTAR PRADESH, 201306\n",
            "IN\n"
          ]
        }
      ]
    },
    {
      "cell_type": "code",
      "source": [],
      "metadata": {
        "id": "B-BEeGaKiAfZ"
      },
      "execution_count": 2,
      "outputs": []
    },
    {
      "cell_type": "code",
      "source": [
        "model_name='google/flan-t5-base'\n",
        "\n",
        "model = AutoModelForSeq2SeqLM.from_pretrained(model_name)"
      ],
      "metadata": {
        "colab": {
          "base_uri": "https://localhost:8080/"
        },
        "id": "CKs6rn73iFl9",
        "outputId": "0d9c9933-9afe-4ab1-ce0f-cd79f4a3d4c6"
      },
      "execution_count": 5,
      "outputs": [
        {
          "output_type": "stream",
          "name": "stderr",
          "text": [
            "/usr/local/lib/python3.10/dist-packages/huggingface_hub/utils/_token.py:88: UserWarning: \n",
            "The secret `HF_TOKEN` does not exist in your Colab secrets.\n",
            "To authenticate with the Hugging Face Hub, create a token in your settings tab (https://huggingface.co/settings/tokens), set it as secret in your Google Colab and restart your session.\n",
            "You will be able to reuse this secret in all of your notebooks.\n",
            "Please note that authentication is recommended but still optional to access public models or datasets.\n",
            "  warnings.warn(\n"
          ]
        }
      ]
    },
    {
      "cell_type": "code",
      "source": [
        "tokenizer = AutoTokenizer.from_pretrained(model_name, use_fast=True)"
      ],
      "metadata": {
        "id": "m9SMhxpmiJ7W"
      },
      "execution_count": 6,
      "outputs": []
    },
    {
      "cell_type": "code",
      "source": [
        "sentence = \"What time is it, Tom?\"\n",
        "\n",
        "sentence_encoded = tokenizer(sentence, return_tensors='pt')\n",
        "\n",
        "sentence_decoded = tokenizer.decode(\n",
        "        sentence_encoded[\"input_ids\"][0],\n",
        "        skip_special_tokens=True\n",
        "    )\n",
        "\n",
        "print('ENCODED SENTENCE:')\n",
        "print(sentence_encoded[\"input_ids\"][0])\n",
        "print('\\nDECODED SENTENCE:')\n",
        "print(sentence_decoded)"
      ],
      "metadata": {
        "colab": {
          "base_uri": "https://localhost:8080/"
        },
        "id": "sZ7yQHubiUNl",
        "outputId": "18e03dee-0ea1-4992-8458-0bb44943219c"
      },
      "execution_count": 7,
      "outputs": [
        {
          "output_type": "stream",
          "name": "stdout",
          "text": [
            "ENCODED SENTENCE:\n",
            "tensor([ 363,   97,   19,   34,    6, 3059,   58,    1])\n",
            "\n",
            "DECODED SENTENCE:\n",
            "What time is it, Tom?\n"
          ]
        }
      ]
    },
    {
      "cell_type": "code",
      "source": [
        "pdf_path = \"/content/sample_data/amazon_invoice.pdf\"\n",
        "dialogue = pdfTotext(pdf_path)\n",
        "# summary = dataset['test'][index]['summary']\n",
        "\n",
        "inputs = tokenizer(dialogue, return_tensors='pt')\n",
        "output = tokenizer.decode(\n",
        "    model.generate(\n",
        "        inputs[\"input_ids\"],\n",
        "        max_new_tokens=150,\n",
        "    )[0],\n",
        "    skip_special_tokens=True\n",
        ")\n",
        "dash_line = '-'.join('' for x in range(100))\n",
        "print(dash_line)\n",
        "# print('Example ', i + 1)\n",
        "print(dash_line)\n",
        "print(f'INPUT PROMPT:\\n{dialogue}')\n",
        "print(dash_line)\n",
        "# print(f'BASELINE HUMAN SUMMARY:\\n{summary}')\n",
        "print(dash_line)\n",
        "print(f'MODEL GENERATION - WITHOUT PROMPT ENGINEERING:\\n{output}\\n')"
      ],
      "metadata": {
        "colab": {
          "base_uri": "https://localhost:8080/"
        },
        "id": "G1Q6o5wRiXZr",
        "outputId": "58ea879c-89c1-4bbe-d605-6294f2a273d1"
      },
      "execution_count": 11,
      "outputs": [
        {
          "output_type": "stream",
          "name": "stdout",
          "text": [
            "1\n",
            "---------------------------------------------------------------------------------------------------\n",
            "---------------------------------------------------------------------------------------------------\n",
            "INPUT PROMPT:\n",
            " Tax Invoice/Bill of Supply/Cash Memo\n",
            "(Original for Recipient)\n",
            "*ASSPL-Amazon Seller Services Pvt. Ltd., ARIPL-Amazon Retail India Pvt. Ltd. (only where Amazon Retail India Pvt. Ltd. fulfillment center is co-located) \n",
            "Customers desirous of availing input GST credit are requested to create a Business account and purchase on Amazon.in/business from Business eligible offers \n",
            "Please note that this invoice is not a demand for payment\n",
            "Page 1 of 1For Darshita Aashiyana Private Limited:\n",
            "Authorized Signatory\n",
            "Order Number:  407-8153595-7245952 Invoice Number :  DEL2-68786\n",
            "Order Date:  10.08.2019 Invoice Details :  HR-DEL2-179184911-1920\n",
            "Invoice Date :  10.08.2019\n",
            "Sl.\n",
            "NoDescription Unit Price QtyNet\n",
            "AmountTax\n",
            "RateTax\n",
            "TypeTax\n",
            "AmountTotal\n",
            "Amount\n",
            "1OnePlus 7 (Mirror Blue, 6GB RAM, 128GB Storage) |\n",
            "B07HGMLBW1 ( OP7-NBLUE-6-128GB ) \n",
            "HSN:8517₹29,463.39 1₹29,463.39 12%IGST₹3,535.61₹32,999.00\n",
            "TOTAL: ₹3,535.61₹32,999.00\n",
            "Amount in Words:\n",
            "Thirty-two Thousand Nine Hundred And Ninety-nine onlySold By :\n",
            "Darshita Aashiyana Private Limited\n",
            "* Unit No. 1, Khewat/ Khata No: 373/ 400 Mustatil\n",
            "No 31,, Village Taoru, Tehsil Taoru, District\n",
            "Mewat,, On Bilaspur Taoru Road\n",
            "Mewat, Haryana, 122105\n",
            "IN\n",
            "PAN No: AAFCD6883Q\n",
            "GST Registration No: 06AAFCD6883Q1ZUBilling Address :\n",
            "karthik\n",
            "C1001 ace city, sector1\n",
            "GREATER NOIDA, UTTAR PRADESH, 201306\n",
            "IN\n",
            "Shipping Address :\n",
            "karthik \n",
            "karthik\n",
            "C1001 ace city, sector1\n",
            "GREATER NOIDA, UTTAR PRADESH, 201306\n",
            "IN\n",
            "---------------------------------------------------------------------------------------------------\n",
            "---------------------------------------------------------------------------------------------------\n",
            "MODEL GENERATION - WITHOUT PROMPT ENGINEERING:\n",
            "*ASSPL-Amazon Seller Services Pvt. Ltd., ARIPL-Amazon Retail India Pvt. Ltd. (only where Amazon Retail India Pvt. Ltd. fulfillment center is co-located) Customers desirous of availing input GST credit are requested to create a Business account and purchase on Amazon.in/business from Business eligible offers Please note that this invoice is not a demand for payment Page 1 of 1For Darshita Aashiyana Private Limited: Authorized Signatory Order Number: 407-8153595-7245952 Invoice Number: DEL2-68786 Order Date: 10.08.2019 Invoice Details : HR-DEL2-1\n",
            "\n"
          ]
        }
      ]
    },
    {
      "cell_type": "markdown",
      "source": [
        "#Following piece of code is for zero shot learning\n",
        "# Test case -1 :\n",
        "  **Field  required** ( mandatory fields) : GST Number , Invoice Date, Invoice Number\n",
        "\n",
        "  **label** : Valid\n",
        "\n",
        "  **model output**: valid\n",
        "\n",
        "  **missing fields**: None\n",
        "\n",
        "  \n",
        "  **Explanation**: in the invoice provided all the mandatory fields are present hence it is a valid bill/cash memo/ invoice\n",
        "\n",
        "\n",
        "  PS: In the following Test cases explanation won't be there only required fild  label and model output will be there.\n"
      ],
      "metadata": {
        "id": "Ucj1K6vp7Yr0"
      }
    },
    {
      "cell_type": "code",
      "source": [
        "\n",
        "pdf_path = \"/content/sample_data/amazon_invoice.pdf\"\n",
        "dialogue = pdfTotext(pdf_path)\n",
        "summary = \"valid\"\n",
        "\n",
        "prompt = f\"\"\"\n",
        "classify the following invoice as valid or invalid based on the 'invoice number', 'invoice date' and 'GST number'. if all the feilds are present then it is a valid invoice otherwise invalid.\n",
        "\n",
        "{dialogue}\n",
        "\n",
        "Classification:\n",
        "\"\"\"\n",
        "\n",
        "# Input constructed prompt instead of the dialogue.\n",
        "inputs = tokenizer(prompt, return_tensors='pt')\n",
        "output = tokenizer.decode(\n",
        "    model.generate(\n",
        "        inputs[\"input_ids\"],\n",
        "        max_new_tokens=150,\n",
        "    )[0],\n",
        "    skip_special_tokens=True\n",
        ")\n",
        "\n",
        "print(dash_line)\n",
        "# print('Example ', i + 1)\n",
        "print(dash_line)\n",
        "print(f'INPUT PROMPT:\\n{prompt}')\n",
        "print(dash_line)\n",
        "print(f'BASELINE HUMAN SUMMARY:\\n{summary}')\n",
        "print(dash_line)\n",
        "print(f'MODEL GENERATION - ZERO SHOT:\\n{output}\\n')\n"
      ],
      "metadata": {
        "colab": {
          "base_uri": "https://localhost:8080/"
        },
        "id": "OF72jrzpicqI",
        "outputId": "2302c8b8-ff99-4f25-f6b4-3f370b7e9abf"
      },
      "execution_count": 12,
      "outputs": [
        {
          "output_type": "stream",
          "name": "stderr",
          "text": [
            "Token indices sequence length is longer than the specified maximum sequence length for this model (559 > 512). Running this sequence through the model will result in indexing errors\n"
          ]
        },
        {
          "output_type": "stream",
          "name": "stdout",
          "text": [
            "1\n",
            "---------------------------------------------------------------------------------------------------\n",
            "---------------------------------------------------------------------------------------------------\n",
            "INPUT PROMPT:\n",
            "\n",
            "classify the following invoice as valid or invalid based on the 'invoice number', 'invoice date' and 'GST number'. if all the feilds are present then it is a valid invoice otherwise invalid.\n",
            "\n",
            " Tax Invoice/Bill of Supply/Cash Memo\n",
            "(Original for Recipient)\n",
            "*ASSPL-Amazon Seller Services Pvt. Ltd., ARIPL-Amazon Retail India Pvt. Ltd. (only where Amazon Retail India Pvt. Ltd. fulfillment center is co-located) \n",
            "Customers desirous of availing input GST credit are requested to create a Business account and purchase on Amazon.in/business from Business eligible offers \n",
            "Please note that this invoice is not a demand for payment\n",
            "Page 1 of 1For Darshita Aashiyana Private Limited:\n",
            "Authorized Signatory\n",
            "Order Number:  407-8153595-7245952 Invoice Number :  DEL2-68786\n",
            "Order Date:  10.08.2019 Invoice Details :  HR-DEL2-179184911-1920\n",
            "Invoice Date :  10.08.2019\n",
            "Sl.\n",
            "NoDescription Unit Price QtyNet\n",
            "AmountTax\n",
            "RateTax\n",
            "TypeTax\n",
            "AmountTotal\n",
            "Amount\n",
            "1OnePlus 7 (Mirror Blue, 6GB RAM, 128GB Storage) |\n",
            "B07HGMLBW1 ( OP7-NBLUE-6-128GB ) \n",
            "HSN:8517₹29,463.39 1₹29,463.39 12%IGST₹3,535.61₹32,999.00\n",
            "TOTAL: ₹3,535.61₹32,999.00\n",
            "Amount in Words:\n",
            "Thirty-two Thousand Nine Hundred And Ninety-nine onlySold By :\n",
            "Darshita Aashiyana Private Limited\n",
            "* Unit No. 1, Khewat/ Khata No: 373/ 400 Mustatil\n",
            "No 31,, Village Taoru, Tehsil Taoru, District\n",
            "Mewat,, On Bilaspur Taoru Road\n",
            "Mewat, Haryana, 122105\n",
            "IN\n",
            "PAN No: AAFCD6883Q\n",
            "GST Registration No: 06AAFCD6883Q1ZUBilling Address :\n",
            "karthik\n",
            "C1001 ace city, sector1\n",
            "GREATER NOIDA, UTTAR PRADESH, 201306\n",
            "IN\n",
            "Shipping Address :\n",
            "karthik \n",
            "karthik\n",
            "C1001 ace city, sector1\n",
            "GREATER NOIDA, UTTAR PRADESH, 201306\n",
            "IN\n",
            "\n",
            "Classification:\n",
            "\n",
            "---------------------------------------------------------------------------------------------------\n",
            "BASELINE HUMAN SUMMARY:\n",
            "valid\n",
            "---------------------------------------------------------------------------------------------------\n",
            "MODEL GENERATION - ZERO SHOT:\n",
            "valid\n",
            "\n"
          ]
        }
      ]
    },
    {
      "cell_type": "markdown",
      "source": [],
      "metadata": {
        "id": "jgnJD6yr9nRf"
      }
    },
    {
      "cell_type": "markdown",
      "source": [
        "#Following piece of code is for zero shot learning\n",
        "# Test case -2 :\n",
        "  **Field  required** ( mandatory fields) : GST Number , Invoice Date, Invoice Number\n",
        "\n",
        "  **label** : Invalid\n",
        "\n",
        "  **model output**: valid\n",
        "\n",
        "  **missing fields**: Invoice Date (check the test_case2.txt file)"
      ],
      "metadata": {
        "id": "02Y2egKO9nj1"
      }
    },
    {
      "cell_type": "code",
      "source": [
        "\n",
        "text_path = \"/content/sample_data/test_case2.txt\"\n",
        "dialogue = text_reader(text_path)\n",
        "summary = \"invalid\"\n",
        "\n",
        "prompt = f\"\"\"\n",
        "classify the following invoice as valid or invalid based on the 'invoice number', 'invoice date' and 'GST number'. if all the feilds are present then it is a valid invoice otherwise invalid.\n",
        "\n",
        "{dialogue}\n",
        "\n",
        "Classification:\n",
        "\"\"\"\n",
        "\n",
        "# Input constructed prompt instead of the dialogue.\n",
        "inputs = tokenizer(prompt, return_tensors='pt')\n",
        "output = tokenizer.decode(\n",
        "    model.generate(\n",
        "        inputs[\"input_ids\"],\n",
        "        max_new_tokens=150,\n",
        "    )[0],\n",
        "    skip_special_tokens=True\n",
        ")\n",
        "\n",
        "print(dash_line)\n",
        "# print('Example ', i + 1)\n",
        "print(dash_line)\n",
        "print(f'INPUT PROMPT:\\n{prompt}')\n",
        "print(dash_line)\n",
        "print(f'BASELINE HUMAN SUMMARY:\\n{summary}')\n",
        "print(dash_line)\n",
        "print(f'MODEL GENERATION - ZERO SHOT:\\n{output}\\n')"
      ],
      "metadata": {
        "colab": {
          "base_uri": "https://localhost:8080/"
        },
        "id": "uvfh4WuFiuHS",
        "outputId": "18881f2c-9579-4a7e-f101-3aeacd817b07"
      },
      "execution_count": 16,
      "outputs": [
        {
          "output_type": "stream",
          "name": "stdout",
          "text": [
            "---------------------------------------------------------------------------------------------------\n",
            "---------------------------------------------------------------------------------------------------\n",
            "INPUT PROMPT:\n",
            "\n",
            "classify the following invoice as valid or invalid based on the 'invoice number', 'invoice date' and 'GST number'. if all the feilds are present then it is a valid invoice otherwise invalid.\n",
            "\n",
            "Tax Invoice/Bill of Supply/Cash Memo\n",
            "(Original for Recipient)\n",
            "*ASSPL-Amazon Seller Services Pvt. Ltd., ARIPL-Amazon Retail India Pvt. Ltd. (only where Amazon Retail India Pvt. Ltd. fulfillment center is co-located) \n",
            "Customers desirous of availing input GST credit are requested to create a Business account and purchase on Amazon.in/business from Business eligible offers \n",
            "Please note that this invoice is not a demand for payment\n",
            "Page 1 of 1For Darshita Aashiyana Private Limited:\n",
            "Authorized Signatory\n",
            "Order Number:  407-8153595-7245952 Invoice Number :  DEL2-68786\n",
            "Order Date:  10.08.2019 Invoice Details :  HR-DEL2-179184911-1920\n",
            "Invoice Date:\n",
            "Sl.\n",
            "NoDescription Unit Price QtyNet\n",
            "AmountTax\n",
            "RateTax\n",
            "TypeTax\n",
            "AmountTotal\n",
            "Amount\n",
            "1OnePlus 7 (Mirror Blue, 6GB RAM, 128GB Storage) |\n",
            "B07HGMLBW1 ( OP7-NBLUE-6-128GB ) \n",
            "HSN:8517₹29,463.39 1₹29,463.39 12%IGST₹3,535.61₹32,999.00\n",
            "TOTAL: ₹3,535.61₹32,999.00\n",
            "Amount in Words:\n",
            "Thirty-two Thousand Nine Hundred And Ninety-nine onlySold By :\n",
            "Darshita Aashiyana Private Limited\n",
            "* Unit No. 1, Khewat/ Khata No: 373/ 400 Mustatil\n",
            "No 31,, Village Taoru, Tehsil Taoru, District\n",
            "Mewat,, On Bilaspur Taoru Road\n",
            "Mewat, Haryana, 122105\n",
            "IN\n",
            "PAN No: AAFCD6883Q\n",
            "GST Registration No: 06AAFCD6883Q1ZUBilling Address :\n",
            "karthik\n",
            "C1001 ace city, sector1\n",
            "GREATER NOIDA, UTTAR PRADESH, 201306\n",
            "IN\n",
            "Shipping Address :\n",
            "karthik \n",
            "karthik\n",
            "C1001 ace city, sector1\n",
            "GREATER NOIDA, UTTAR PRADESH, 201306\n",
            "IN\n",
            "\n",
            "Classification:\n",
            "\n",
            "---------------------------------------------------------------------------------------------------\n",
            "BASELINE HUMAN SUMMARY:\n",
            "invalid\n",
            "---------------------------------------------------------------------------------------------------\n",
            "MODEL GENERATION - ZERO SHOT:\n",
            "valid\n",
            "\n"
          ]
        }
      ]
    },
    {
      "cell_type": "markdown",
      "source": [
        "#Test case -3 :\n",
        "Field required ( mandatory fields) : GST Number , Invoice Date, Invoice Number\n",
        "\n",
        "label : Invalid\n",
        "\n",
        "model output: valid\n",
        "\n",
        "missing fields: Invoice Date (check the test_case3.txt file,  complete row is missing)"
      ],
      "metadata": {
        "id": "5qk1vb6IBpxF"
      }
    },
    {
      "cell_type": "code",
      "source": [
        "\n",
        "test_case3_path = \"/content/sample_data/test_case3.txt\"\n",
        "dialogue = text_reader(test_case3_path)\n",
        "summary = \"invalid\"\n",
        "\n",
        "prompt = f\"\"\"\n",
        "classify the following invoice as valid or invalid based on the 'invoice number', 'invoice date' and 'GST number'. if all the feilds are present then it is a valid invoice otherwise invalid.\n",
        "\n",
        "{dialogue}\n",
        "\n",
        "Classification:\n",
        "\"\"\"\n",
        "\n",
        "# Input constructed prompt instead of the dialogue.\n",
        "inputs = tokenizer(prompt, return_tensors='pt')\n",
        "output = tokenizer.decode(\n",
        "    model.generate(\n",
        "        inputs[\"input_ids\"],\n",
        "        max_new_tokens=150,\n",
        "    )[0],\n",
        "    skip_special_tokens=True\n",
        ")\n",
        "\n",
        "print(dash_line)\n",
        "# print('Example ', i + 1)\n",
        "print(dash_line)\n",
        "print(f'INPUT PROMPT:\\n{prompt}')\n",
        "print(dash_line)\n",
        "print(f'BASELINE HUMAN SUMMARY:\\n{summary}')\n",
        "print(dash_line)\n",
        "print(f'MODEL GENERATION - ZERO SHOT:\\n{output}\\n')"
      ],
      "metadata": {
        "colab": {
          "base_uri": "https://localhost:8080/"
        },
        "id": "538a_y4wBWui",
        "outputId": "e86f4f04-8e92-429f-c040-83d4d97566d8"
      },
      "execution_count": 18,
      "outputs": [
        {
          "output_type": "stream",
          "name": "stdout",
          "text": [
            "---------------------------------------------------------------------------------------------------\n",
            "---------------------------------------------------------------------------------------------------\n",
            "INPUT PROMPT:\n",
            "\n",
            "classify the following invoice as valid or invalid based on the 'invoice number', 'invoice date' and 'GST number'. if all the feilds are present then it is a valid invoice otherwise invalid.\n",
            "\n",
            "Tax Invoice/Bill of Supply/Cash Memo\n",
            "(Original for Recipient)\n",
            "*ASSPL-Amazon Seller Services Pvt. Ltd., ARIPL-Amazon Retail India Pvt. Ltd. (only where Amazon Retail India Pvt. Ltd. fulfillment center is co-located) \n",
            "Customers desirous of availing input GST credit are requested to create a Business account and purchase on Amazon.in/business from Business eligible offers \n",
            "Please note that this invoice is not a demand for payment\n",
            "Page 1 of 1For Darshita Aashiyana Private Limited:\n",
            "Authorized Signatory\n",
            "Order Number:  407-8153595-7245952 Invoice Number :  DEL2-68786\n",
            "Order Date:  10.08.2019 Invoice Details :  HR-DEL2-179184911-1920\n",
            "Sl.\n",
            "NoDescription Unit Price QtyNet\n",
            "AmountTax\n",
            "RateTax\n",
            "TypeTax\n",
            "AmountTotal\n",
            "Amount\n",
            "1OnePlus 7 (Mirror Blue, 6GB RAM, 128GB Storage) |\n",
            "B07HGMLBW1 ( OP7-NBLUE-6-128GB ) \n",
            "HSN:8517₹29,463.39 1₹29,463.39 12%IGST₹3,535.61₹32,999.00\n",
            "TOTAL: ₹3,535.61₹32,999.00\n",
            "Amount in Words:\n",
            "Thirty-two Thousand Nine Hundred And Ninety-nine onlySold By :\n",
            "Darshita Aashiyana Private Limited\n",
            "* Unit No. 1, Khewat/ Khata No: 373/ 400 Mustatil\n",
            "No 31,, Village Taoru, Tehsil Taoru, District\n",
            "Mewat,, On Bilaspur Taoru Road\n",
            "Mewat, Haryana, 122105\n",
            "IN\n",
            "PAN No: AAFCD6883Q\n",
            "GST Registration No: 06AAFCD6883Q1ZUBilling Address :\n",
            "karthik\n",
            "C1001 ace city, sector1\n",
            "GREATER NOIDA, UTTAR PRADESH, 201306\n",
            "IN\n",
            "Shipping Address :\n",
            "karthik \n",
            "karthik\n",
            "C1001 ace city, sector1\n",
            "GREATER NOIDA, UTTAR PRADESH, 201306\n",
            "IN\n",
            "\n",
            "Classification:\n",
            "\n",
            "---------------------------------------------------------------------------------------------------\n",
            "BASELINE HUMAN SUMMARY:\n",
            "invalid\n",
            "---------------------------------------------------------------------------------------------------\n",
            "MODEL GENERATION - ZERO SHOT:\n",
            "valid\n",
            "\n"
          ]
        }
      ]
    },
    {
      "cell_type": "code",
      "source": [
        "test_case4_path = \"/content/sample_data/test_case4.txt\"\n",
        "dialogue = text_reader(test_case3_path)\n",
        "summary = \"invalid\"\n",
        "\n",
        "prompt = f\"\"\"\n",
        "classify the following invoice as valid or invalid based on the 'invoice number', 'invoice date' and 'GST number'. if all the feilds are present then it is a valid invoice otherwise invalid.\n",
        "\n",
        "{dialogue}\n",
        "\n",
        "Classification:\n",
        "\"\"\"\n",
        "\n",
        "# Input constructed prompt instead of the dialogue.\n",
        "inputs = tokenizer(prompt, return_tensors='pt')\n",
        "output = tokenizer.decode(\n",
        "    model.generate(\n",
        "        inputs[\"input_ids\"],\n",
        "        max_new_tokens=150,\n",
        "    )[0],\n",
        "    skip_special_tokens=True\n",
        ")\n",
        "\n",
        "print(dash_line)\n",
        "# print('Example ', i + 1)\n",
        "print(dash_line)\n",
        "print(f'INPUT PROMPT:\\n{prompt}')\n",
        "print(dash_line)\n",
        "print(f'BASELINE HUMAN SUMMARY:\\n{summary}')\n",
        "print(dash_line)\n",
        "print(f'MODEL GENERATION - ZERO SHOT:\\n{output}\\n')"
      ],
      "metadata": {
        "colab": {
          "base_uri": "https://localhost:8080/"
        },
        "id": "R23BhM-6CnLW",
        "outputId": "b94c4888-5161-407f-e3f5-1189495441e4"
      },
      "execution_count": 19,
      "outputs": [
        {
          "output_type": "stream",
          "name": "stdout",
          "text": [
            "---------------------------------------------------------------------------------------------------\n",
            "---------------------------------------------------------------------------------------------------\n",
            "INPUT PROMPT:\n",
            "\n",
            "classify the following invoice as valid or invalid based on the 'invoice number', 'invoice date' and 'GST number'. if all the feilds are present then it is a valid invoice otherwise invalid.\n",
            "\n",
            "Tax Invoice/Bill of Supply/Cash Memo\n",
            "(Original for Recipient)\n",
            "*ASSPL-Amazon Seller Services Pvt. Ltd., ARIPL-Amazon Retail India Pvt. Ltd. (only where Amazon Retail India Pvt. Ltd. fulfillment center is co-located) \n",
            "Customers desirous of availing input GST credit are requested to create a Business account and purchase on Amazon.in/business from Business eligible offers \n",
            "Please note that this invoice is not a demand for payment\n",
            "Page 1 of 1For Darshita Aashiyana Private Limited:\n",
            "Authorized Signatory\n",
            "Order Number:  407-8153595-7245952 Invoice Number :  DEL2-68786\n",
            "Order Date:  10.08.2019 Invoice Details :  HR-DEL2-179184911-1920\n",
            "Sl.\n",
            "NoDescription Unit Price QtyNet\n",
            "AmountTax\n",
            "RateTax\n",
            "TypeTax\n",
            "AmountTotal\n",
            "Amount\n",
            "1OnePlus 7 (Mirror Blue, 6GB RAM, 128GB Storage) |\n",
            "B07HGMLBW1 ( OP7-NBLUE-6-128GB ) \n",
            "HSN:8517₹29,463.39 1₹29,463.39 12%IGST₹3,535.61₹32,999.00\n",
            "TOTAL: ₹3,535.61₹32,999.00\n",
            "Amount in Words:\n",
            "Thirty-two Thousand Nine Hundred And Ninety-nine onlySold By :\n",
            "Darshita Aashiyana Private Limited\n",
            "* Unit No. 1, Khewat/ Khata No: 373/ 400 Mustatil\n",
            "No 31,, Village Taoru, Tehsil Taoru, District\n",
            "Mewat,, On Bilaspur Taoru Road\n",
            "Mewat, Haryana, 122105\n",
            "IN\n",
            "PAN No: AAFCD6883Q\n",
            "GST Registration No: 06AAFCD6883Q1ZUBilling Address :\n",
            "karthik\n",
            "C1001 ace city, sector1\n",
            "GREATER NOIDA, UTTAR PRADESH, 201306\n",
            "IN\n",
            "Shipping Address :\n",
            "karthik \n",
            "karthik\n",
            "C1001 ace city, sector1\n",
            "GREATER NOIDA, UTTAR PRADESH, 201306\n",
            "IN\n",
            "\n",
            "Classification:\n",
            "\n",
            "---------------------------------------------------------------------------------------------------\n",
            "BASELINE HUMAN SUMMARY:\n",
            "invalid\n",
            "---------------------------------------------------------------------------------------------------\n",
            "MODEL GENERATION - ZERO SHOT:\n",
            "valid\n",
            "\n"
          ]
        }
      ]
    },
    {
      "cell_type": "code",
      "source": [
        "def make_prompt(example_indices_full, example_index_to_summarize):\n",
        "    prompt = ''\n",
        "    for index in example_indices_full:\n",
        "        dialogue = dataset['test'][index]['dialogue']\n",
        "        summary = dataset['test'][index]['summary']\n",
        "\n",
        "        # The stop sequence '{summary}\\n\\n\\n' is important for FLAN-T5. Other models may have their own preferred stop sequence.\n",
        "        prompt += f\"\"\"Dialogue:\n",
        "{dialogue}\n",
        "\n",
        "What was going on?\n",
        "{summary}\n",
        "\"\"\"\n",
        "\n",
        "    dialogue = dataset['test'][example_index_to_summarize]['dialogue']\n",
        "\n",
        "    prompt += f\"\"\"Dialogue:\n",
        "{dialogue}\n",
        "\n",
        "What was going on?\n",
        "\"\"\"\n",
        "\n",
        "    return prompt"
      ],
      "metadata": {
        "id": "VNngMPCTjWF2"
      },
      "execution_count": 24,
      "outputs": []
    },
    {
      "cell_type": "code",
      "source": [
        "example_indices_full = [40]\n",
        "example_index_to_summarize = 200\n",
        "\n",
        "one_shot_prompt = make_prompt(example_indices_full, example_index_to_summarize)\n",
        "\n",
        "print(one_shot_prompt)"
      ],
      "metadata": {
        "id": "XPbHP1TAj9eT"
      },
      "execution_count": null,
      "outputs": []
    },
    {
      "cell_type": "code",
      "source": [
        "summary = dataset['test'][example_index_to_summarize]['summary']\n",
        "\n",
        "inputs = tokenizer(one_shot_prompt, return_tensors='pt')\n",
        "output = tokenizer.decode(\n",
        "    model.generate(\n",
        "        inputs[\"input_ids\"],\n",
        "        max_new_tokens=50,\n",
        "    )[0],\n",
        "    skip_special_tokens=True\n",
        ")\n",
        "\n",
        "print(dash_line)\n",
        "print(f'BASELINE HUMAN SUMMARY:\\n{summary}\\n')\n",
        "print(dash_line)\n",
        "print(f'MODEL GENERATION - ONE SHOT:\\n{output}')"
      ],
      "metadata": {
        "colab": {
          "base_uri": "https://localhost:8080/"
        },
        "id": "ct5H83W0kAem",
        "outputId": "f85cf71f-3173-49d0-8db3-a6ae9631b8ab"
      },
      "execution_count": 26,
      "outputs": [
        {
          "output_type": "stream",
          "name": "stdout",
          "text": [
            "---------------------------------------------------------------------------------------------------\n",
            "BASELINE HUMAN SUMMARY:\n",
            "#Person1# teaches #Person2# how to upgrade software and hardware in #Person2#'s system.\n",
            "\n",
            "---------------------------------------------------------------------------------------------------\n",
            "MODEL GENERATION - ONE SHOT:\n",
            "#Person1 wants to upgrade his system. #Person2 wants to add a painting program to his software. #Person1 wants to add a CD-ROM drive.\n"
          ]
        }
      ]
    },
    {
      "cell_type": "code",
      "source": [
        "example_indices_full = [40, 80, 120]\n",
        "example_index_to_summarize = 200\n",
        "\n",
        "few_shot_prompt = make_prompt(example_indices_full, example_index_to_summarize)\n",
        "\n",
        "print(few_shot_prompt)"
      ],
      "metadata": {
        "id": "V-ZZkbrUk54C"
      },
      "execution_count": null,
      "outputs": []
    },
    {
      "cell_type": "code",
      "source": [
        "summary = dataset['test'][example_index_to_summarize]['summary']\n",
        "\n",
        "inputs = tokenizer(few_shot_prompt, return_tensors='pt')\n",
        "output = tokenizer.decode(\n",
        "    model.generate(\n",
        "        inputs[\"input_ids\"],\n",
        "        max_new_tokens=50,\n",
        "    )[0],\n",
        "    skip_special_tokens=True\n",
        ")\n",
        "\n",
        "print(dash_line)\n",
        "print(f'BASELINE HUMAN SUMMARY:\\n{summary}\\n')\n",
        "print(dash_line)\n",
        "print(f'MODEL GENERATION - FEW SHOT:\\n{output}')"
      ],
      "metadata": {
        "id": "oo-fiU8Ek_eW"
      },
      "execution_count": null,
      "outputs": []
    },
    {
      "cell_type": "code",
      "source": [
        "generation_config = GenerationConfig(max_new_tokens=50)\n",
        "# generation_config = GenerationConfig(max_new_tokens=10)\n",
        "# generation_config = GenerationConfig(max_new_tokens=50, do_sample=True, temperature=0.1)\n",
        "# generation_config = GenerationConfig(max_new_tokens=50, do_sample=True, temperature=0.5)\n",
        "# generation_config = GenerationConfig(max_new_tokens=50, do_sample=True, temperature=1.0)\n",
        "\n",
        "inputs = tokenizer(few_shot_prompt, return_tensors='pt')\n",
        "output = tokenizer.decode(\n",
        "    model.generate(\n",
        "        inputs[\"input_ids\"],\n",
        "        generation_config=generation_config,\n",
        "    )[0],\n",
        "    skip_special_tokens=True\n",
        ")\n",
        "\n",
        "print(dash_line)\n",
        "print(f'MODEL GENERATION - FEW SHOT:\\n{output}')\n",
        "print(dash_line)\n",
        "print(f'BASELINE HUMAN SUMMARY:\\n{summary}\\n')"
      ],
      "metadata": {
        "id": "ITjATR1WlGDV"
      },
      "execution_count": null,
      "outputs": []
    },
    {
      "cell_type": "code",
      "source": [],
      "metadata": {
        "id": "Pyu3c99WlMLg"
      },
      "execution_count": null,
      "outputs": []
    }
  ]
}